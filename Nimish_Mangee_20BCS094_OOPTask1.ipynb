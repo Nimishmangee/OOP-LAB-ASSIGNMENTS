{
  "nbformat": 4,
  "nbformat_minor": 0,
  "metadata": {
    "colab": {
      "name": "Nimish Mangee_20BCS094_OOPTask1.ipynb",
      "provenance": [],
      "authorship_tag": "ABX9TyN1HD9gp3rKGve+IHbL1Aln",
      "include_colab_link": true
    },
    "kernelspec": {
      "name": "python3",
      "display_name": "Python 3"
    },
    "language_info": {
      "name": "python"
    }
  },
  "cells": [
    {
      "cell_type": "markdown",
      "metadata": {
        "id": "view-in-github",
        "colab_type": "text"
      },
      "source": [
        "<a href=\"https://colab.research.google.com/github/Nimishmangee/OOP-LAB-ASSIGNMENTS/blob/main/Nimish_Mangee_20BCS094_OOPTask1.ipynb\" target=\"_parent\"><img src=\"https://colab.research.google.com/assets/colab-badge.svg\" alt=\"Open In Colab\"/></a>"
      ]
    },
    {
      "cell_type": "markdown",
      "metadata": {
        "id": "wx3ath1Hbz8u"
      },
      "source": [
        "**Problem-I**"
      ]
    },
    {
      "cell_type": "code",
      "metadata": {
        "colab": {
          "base_uri": "https://localhost:8080/"
        },
        "id": "OpjxDtAtb3po",
        "outputId": "aacfb92d-34f4-4bab-f217-d474b2a6ebc9"
      },
      "source": [
        "def isLeap(year):\n",
        "  if (year%4==0 and year%100!=0):\n",
        "    return True\n",
        "  elif (year%4==0 and year%100==0 and year%400==0):\n",
        "    return True\n",
        "  else:\n",
        "    return False\n",
        "year = int(input(\"Enter the year: \"))\n",
        "print(isLeap(year))"
      ],
      "execution_count": 8,
      "outputs": [
        {
          "output_type": "stream",
          "name": "stdout",
          "text": [
            "Enter the year: 2200\n",
            "False\n"
          ]
        }
      ]
    },
    {
      "cell_type": "markdown",
      "metadata": {
        "id": "Lt_XOaeLb62R"
      },
      "source": [
        "**Problem-II**"
      ]
    },
    {
      "cell_type": "code",
      "metadata": {
        "colab": {
          "base_uri": "https://localhost:8080/"
        },
        "id": "AVyOGfFecAPA",
        "outputId": "99baec52-1ff2-4105-cd9b-5bd89b876aea"
      },
      "source": [
        "def isWeird(num):\n",
        "  print(num)\n",
        "  if (num%2!= 0):\n",
        "    print(\"Weird\")\n",
        "  elif num in range(2,6):\n",
        "    print(\"Not weird\")\n",
        "  elif num in range(6, 21):\n",
        "    print(\"Weird\")\n",
        "  elif num > 20:\n",
        "    print(\"Not weird\")\n",
        "n=int(input(\"Enter n: \"))\n",
        "isWeird(n)"
      ],
      "execution_count": 10,
      "outputs": [
        {
          "output_type": "stream",
          "name": "stdout",
          "text": [
            "Enter n: 4\n",
            "4\n",
            "Not weird\n"
          ]
        }
      ]
    },
    {
      "cell_type": "markdown",
      "metadata": {
        "id": "YNbNlRz2dJuA"
      },
      "source": [
        "**Problem-III**"
      ]
    },
    {
      "cell_type": "code",
      "metadata": {
        "colab": {
          "base_uri": "https://localhost:8080/"
        },
        "id": "pXE10lo3dNal",
        "outputId": "179c28b1-5b31-4bbe-91df-f1a51b1ae724"
      },
      "source": [
        "def Late(Arrivals, person):\n",
        "  if person in Arrivals[len(Arrivals)//2: -1]:\n",
        "    print(\"Fashionably late\")\n",
        "  else:\n",
        "    print(\"Not Fashionably late\")\n",
        "\n",
        "Arrivals = [\"Hardik\", \"Rahul\", \"Virat\", \"Rishabh\", \"Mahi\", \"Rohit\", \"Rahane\"]\n",
        "Late(Arrivals, \"Hardik\")\n",
        "Late(Arrivals, \"Rishabh\")\n",
        "Late(Arrivals, \"Rohit\")"
      ],
      "execution_count": 13,
      "outputs": [
        {
          "output_type": "stream",
          "name": "stdout",
          "text": [
            "Not Fashionably late\n",
            "Fashionably late\n",
            "Fashionably late\n"
          ]
        }
      ]
    },
    {
      "cell_type": "markdown",
      "metadata": {
        "id": "LWuC3Macfdt1"
      },
      "source": [
        "**Problem-IV**"
      ]
    },
    {
      "cell_type": "code",
      "metadata": {
        "colab": {
          "base_uri": "https://localhost:8080/"
        },
        "id": "IZSnAKswfjYl",
        "outputId": "0f44926a-28c9-445e-9646-cafc293d407b"
      },
      "source": [
        "def search(doc_list, keyword):\n",
        "  req_list = []\n",
        "  for doc in doc_list:\n",
        "    doc.replace(',','')\n",
        "    doc.replace('.','')\n",
        "    duplicate_list = doc.split()\n",
        "    for word in duplicate_list:\n",
        "      if word.lower() == keyword.lower():\n",
        "        req_list.append(doc)\n",
        "  \n",
        "  return req_list\n",
        "\n",
        "doc_list = [\"The Learn Python Challenge Rohit.\", \"They bought a car\", \"bangalore\"]\n",
        "keyword = input('Enter the keyword: ')\n",
        "required_list = search(doc_list, keyword)\n",
        "print(required_list)"
      ],
      "execution_count": 5,
      "outputs": [
        {
          "output_type": "stream",
          "name": "stdout",
          "text": [
            "Enter the keyword: challenge\n",
            "['The Learn Python Challenge Rohit.']\n"
          ]
        }
      ]
    },
    {
      "cell_type": "markdown",
      "metadata": {
        "id": "ZRYIGIuBkCj9"
      },
      "source": [
        "***Problem-V***"
      ]
    },
    {
      "cell_type": "code",
      "metadata": {
        "colab": {
          "base_uri": "https://localhost:8080/"
        },
        "id": "ZdP4P3zxkFe0",
        "outputId": "0d518612-75bc-484d-dff2-5ca24e2fa4c5"
      },
      "source": [
        "# gross pay = bp+da+hra\n",
        "# gp = 160%ofbp i.e. 1.6*bp\n",
        "def func(BP):\n",
        "  return 1.6*BP\n",
        "BP = int(input(\"Enter the BP: \"))\n",
        "print(func(BP))"
      ],
      "execution_count": 1,
      "outputs": [
        {
          "output_type": "stream",
          "name": "stdout",
          "text": [
            "Enter the BP: 56\n",
            "89.60000000000001\n"
          ]
        }
      ]
    }
  ]
}
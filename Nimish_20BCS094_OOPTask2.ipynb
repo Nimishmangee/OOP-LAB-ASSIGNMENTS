{
  "nbformat": 4,
  "nbformat_minor": 0,
  "metadata": {
    "colab": {
      "name": "Nimish_20BCS094_OOPTask2.ipynb",
      "provenance": [],
      "collapsed_sections": [],
      "authorship_tag": "ABX9TyMGMLfYL8z1T1UekA7wtYVN",
      "include_colab_link": true
    },
    "kernelspec": {
      "display_name": "Python 3",
      "name": "python3"
    },
    "language_info": {
      "name": "python"
    }
  },
  "cells": [
    {
      "cell_type": "markdown",
      "metadata": {
        "id": "view-in-github",
        "colab_type": "text"
      },
      "source": [
        "<a href=\"https://colab.research.google.com/github/Nimishmangee/OOP-LAB-ASSIGNMENTS/blob/main/Nimish_20BCS094_OOPTask2.ipynb\" target=\"_parent\"><img src=\"https://colab.research.google.com/assets/colab-badge.svg\" alt=\"Open In Colab\"/></a>"
      ]
    },
    {
      "cell_type": "markdown",
      "metadata": {
        "id": "8CxsuCsrNoOf"
      },
      "source": [
        "**Problem 1**"
      ]
    },
    {
      "cell_type": "code",
      "metadata": {
        "colab": {
          "base_uri": "https://localhost:8080/"
        },
        "id": "YaY2BY-yO7tt",
        "outputId": "a583ca4d-c8b2-4eb0-b74a-c45edc03b27f"
      },
      "source": [
        "import numpy as np\n",
        "\n",
        "class circle:\n",
        "  def __init__(self, radius):\n",
        "    self.radius = radius\n",
        "  \n",
        "  def calc_peri(self):\n",
        "    perimeter = 2*np.pi*self.radius\n",
        "    return perimeter\n",
        "\n",
        "  def calc_area(self):\n",
        "    area = np.pi*(self.radius**2)\n",
        "    return area\n",
        "\n",
        "c = circle(4)\n",
        "perimeter = c.calc_peri()\n",
        "area = c.calc_area()\n",
        "print(\"Area: {}\\nPerimeter: {}\".format(area, perimeter))"
      ],
      "execution_count": null,
      "outputs": [
        {
          "name": "stdout",
          "output_type": "stream",
          "text": [
            "Area: 50.26548245743669\n",
            "Perimeter: 25.132741228718345\n"
          ]
        }
      ]
    },
    {
      "cell_type": "markdown",
      "metadata": {
        "id": "jFerF6_nrAwR"
      },
      "source": [
        "**Problem 2**"
      ]
    },
    {
      "cell_type": "code",
      "metadata": {
        "colab": {
          "base_uri": "https://localhost:8080/"
        },
        "id": "260k6MxBrEOI",
        "outputId": "9a2b4400-9c07-4815-b3b2-06a59ae80df6"
      },
      "source": [
        "class teacher:\n",
        "  def __init__(self, name, EMP_ID, branch, salary):\n",
        "    self.name = name\n",
        "    self.salary = salary\n",
        "    self.EMP_ID = EMP_ID\n",
        "    self.branch = branch\n",
        "\n",
        "  def display(self):\n",
        "    print('Name: {}\\nBranch: {}\\nEmployee ID: {}\\nSalary: {}\\n'.format(self.name, self.branch.upper(), self.EMP_ID, self.salary))\n",
        "\n",
        "\n",
        "def get():\n",
        "  employee_list = []\n",
        "  print('Please enter name,emp id, branch and salary')\n",
        "  for i in range(5):\n",
        "    info = input('Details of employee {}: '.format(i+1))\n",
        "    info_list = info.split(',')\n",
        "    employee = teacher(info_list[0], info_list[1], info_list[2], int(info_list[3]))\n",
        "    employee_list.append(employee)\n",
        "\n",
        "  return employee_list\n",
        "\n",
        "def display(employee_list):\n",
        "  i = 1\n",
        "  for employee in employee_list:\n",
        "    print(\"Employee %d\" % i)\n",
        "    employee.display()\n",
        "    print()\n",
        "    i += 1\n",
        "\n",
        "emp_list = get()\n",
        "print()\n",
        "display(emp_list)"
      ],
      "execution_count": null,
      "outputs": [
        {
          "name": "stdout",
          "output_type": "stream",
          "text": [
            "Please enter name,emp id, branch and salary\n",
            "Details of employee 1: Nimish, 234, CSE, 50000\n",
            "Details of employee 2: Ayaan, 235, CSE, 50000\n",
            "Details of employee 3: Ravinder, 236, DSAI, 100000\n",
            "Details of employee 4: Balwinder, 237, ECE, 40000\n",
            "Details of employee 5: Surinder, 238, CSE, 50000\n",
            "\n",
            "Employee 1\n",
            "Name: Nimish\n",
            "Branch:  CSE\n",
            "Employee ID:  234\n",
            "Salary: 50000\n",
            "\n",
            "\n",
            "Employee 2\n",
            "Name: Ayaan\n",
            "Branch:  CSE\n",
            "Employee ID:  235\n",
            "Salary: 50000\n",
            "\n",
            "\n",
            "Employee 3\n",
            "Name: Ravinder\n",
            "Branch:  DSAI\n",
            "Employee ID:  236\n",
            "Salary: 100000\n",
            "\n",
            "\n",
            "Employee 4\n",
            "Name: Balwinder\n",
            "Branch:  ECE\n",
            "Employee ID:  237\n",
            "Salary: 40000\n",
            "\n",
            "\n",
            "Employee 5\n",
            "Name: Surinder\n",
            "Branch:  CSE\n",
            "Employee ID:  238\n",
            "Salary: 50000\n",
            "\n",
            "\n"
          ]
        }
      ]
    },
    {
      "cell_type": "markdown",
      "metadata": {
        "id": "riucCQZOC6Ij"
      },
      "source": [
        "**Problem 3**"
      ]
    },
    {
      "cell_type": "code",
      "metadata": {
        "colab": {
          "base_uri": "https://localhost:8080/"
        },
        "id": "YLPU09l9C8_h",
        "outputId": "6789e0d3-fd5d-4283-c3ae-1ac0f793079c"
      },
      "source": [
        "class bank_account:\n",
        "  def __init__(self, name, account_number, amount):\n",
        "    self.name = name\n",
        "    self.account_number = account_number\n",
        "    self.amount = amount\n",
        "\n",
        "  def deposit(self, dep_amount):\n",
        "    self.amount += dep_amount\n",
        "    print(\"%d INR credited by cash.\" % dep_amount)\n",
        "  \n",
        "  def withdraw(self, with_amount):\n",
        "    if self.amount - with_amount >= 0:\n",
        "      self.amount -= with_amount\n",
        "      print(\"%d Rupees debited from account\" % with_amount,end=\"\")\n",
        "      print(\"%s\"%self.account_number)\n",
        "    else:\n",
        "      print(\"Insufficient balance.\")\n",
        "\n",
        "  def check_balance(self):\n",
        "    print(\"The balance in the account is %d rupees.\" % self.amount)\n",
        "\n",
        "  def disp_details(self):\n",
        "    print('Name: {}\\nAccount No: {}\\nAmount: {}'.format(self.name.title(), self.account_number, self.amount))\n",
        "\n",
        "def take_info():\n",
        "  print('Please enter name,account number, amount')\n",
        "  info = input('Enter the details: ')\n",
        "  info_list = info.split(',')\n",
        "\n",
        "  return bank_account(info_list[0], info_list[1], int(info_list[2]))\n",
        "\n",
        "account_holder = take_info()\n",
        "print()\n",
        "account_holder.deposit(10000)\n",
        "account_holder.withdraw(500)\n",
        "account_holder.check_balance()\n",
        "print()\n",
        "account_holder.disp_details()"
      ],
      "execution_count": null,
      "outputs": [
        {
          "name": "stdout",
          "output_type": "stream",
          "text": [
            "Please enter name,account number, amount\n",
            "Enter the details: Nimish, 9213409907, 11000\n",
            "\n",
            "10000 INR credited by cash.\n",
            "500 Rupees debited from account 9213409907\n",
            "The balance in the account is 20500 rupees.\n",
            "\n",
            "Name: Nimish\n",
            "Account No:  9213409907\n",
            "Amount: 20500\n"
          ]
        }
      ]
    },
    {
      "cell_type": "markdown",
      "metadata": {
        "id": "tpjQ4KmmKqjn"
      },
      "source": [
        "**Problem 4**"
      ]
    },
    {
      "cell_type": "code",
      "metadata": {
        "colab": {
          "base_uri": "https://localhost:8080/"
        },
        "id": "8GRB3dNbKyib",
        "outputId": "258336e2-d7ed-4e5a-c905-643812e0c278"
      },
      "source": [
        "print('Please enter name, usn and marks, seperate marks using colon')\n",
        "info = input('Enter the student details: ')\n",
        "info_list = info.split(',')\n",
        "marks = [float(x) for x in info_list[2].split(';')]\n",
        "name=info_list[0]\n",
        "usn=info_list[1]\n",
        "print('Name: {}\\nUSN: {}'.format(name.title(), usn))\n",
        "print('Marks:')\n",
        "i = 1\n",
        "for mark in marks:\n",
        "  print('Subject {}: {}'.format(i,mark))\n",
        "  i += 1"
      ],
      "execution_count": null,
      "outputs": [
        {
          "output_type": "stream",
          "name": "stdout",
          "text": [
            "Please enter name, usn and marks, seperate marks using colon\n",
            "Enter the student details: Nimish Mangee, 20bcs094, 8;9;10\n",
            "Name: Nimish Mangee\n",
            "USN:  20bcs094\n",
            "Marks:\n",
            "Subject 1: 8.0\n",
            "Subject 2: 9.0\n",
            "Subject 3: 10.0\n"
          ]
        }
      ]
    },
    {
      "cell_type": "markdown",
      "metadata": {
        "id": "EbHkrSJAa7Ei"
      },
      "source": [
        "**Problem 5**"
      ]
    },
    {
      "cell_type": "code",
      "metadata": {
        "id": "wrbRvvZcbD0b",
        "colab": {
          "base_uri": "https://localhost:8080/"
        },
        "outputId": "2edba64e-fa54-4ea6-a60e-03022131e883"
      },
      "source": [
        "class patient:\n",
        "  def __init__(self,name,admission_date,symptoms,oxygen_level,discharge_date):\n",
        "    self.name = name\n",
        "    self.admission_date = admission_date\n",
        "    self.discharge_date = discharge_date\n",
        "    self.symptoms = symptoms\n",
        "    self.oxygen_level = oxygen_level\n",
        "\n",
        "  def disp_details(self):\n",
        "    print('Name: {}\\nDate of admission: {}'.format(self.name.title(),self.admission_date))\n",
        "    print('Symptoms: ',end=' ')\n",
        "    for symptom in self.symptoms:\n",
        "      print(symptom,end=',')\n",
        "    print('\\nOxygen level: {}\\nDate of Discharge: {}'.format(self.oxygen_level,self.discharge_date))\n",
        "\n",
        "class hospital:\n",
        "  def __init__(self):\n",
        "    self.oxygen_support = []\n",
        "    self.general_ward = []\n",
        "\n",
        "  def take_info(self):\n",
        "    info = input('Enter the information: ')\n",
        "    info_list = info.split(',')\n",
        "    symptoms = [x for x in info_list[2].split(';')]\n",
        "    if int(info_list[3]) < 90:\n",
        "      self.oxygen_support.append(patient(info_list[0], info_list[1], symptoms, int(info_list[3]), info_list[4]))\n",
        "    else:\n",
        "      self.general_ward.append(patient(info_list[0], info_list[1], symptoms, int(info_list[3]), info_list[4]))\n",
        "\n",
        "  def no_of_patients_os(self):\n",
        "    return len(self.oxygen_support)\n",
        "\n",
        "  def no_of_patients_gw(self):\n",
        "    return len(self.general_ward)\n",
        "  \n",
        "  def total_patients(self):\n",
        "    return len(self.general_ward) + len(self.oxygen_support)\n",
        "\n",
        "  def patient_details(self):\n",
        "    i = 1\n",
        "    print('General Ward Patients')\n",
        "    for person in self.general_ward:\n",
        "      print()\n",
        "      print('Patient %d: ' % i)\n",
        "      person.disp_details()\n",
        "      i += 1\n",
        "    print()\n",
        "    i = 1\n",
        "    print('Oxygen Support Patients')\n",
        "    for person in self.oxygen_support:\n",
        "      print()\n",
        "      print('Patient %d: ' % i)\n",
        "      person.disp_details()\n",
        "      i += 1\n",
        "\n",
        "\n",
        "h = hospital()\n",
        "print('Please enter name, admission_date(dd/mm/yyyy),symptoms,oxygen_level,discharge_date respectively and seperate using commas, seperate symptoms using colon')\n",
        "h.take_info()\n",
        "h.take_info()\n",
        "h.take_info()\n",
        "patients_in_hospital = h.total_patients()\n",
        "patients_in_general_ward = h.no_of_patients_gw()\n",
        "patients_on_oxygen_support = h.no_of_patients_os()\n",
        "print('Number of patients in hospital: %d' % patients_in_hospital)\n",
        "print('Number of patients in general ward: %d' % patients_in_general_ward )\n",
        "print('Number of patients on oxygen support: %d' % patients_on_oxygen_support)\n",
        "print()\n",
        "h.patient_details()"
      ],
      "execution_count": null,
      "outputs": [
        {
          "output_type": "stream",
          "name": "stdout",
          "text": [
            "Please enter name, admission_date(dd/mm/yyyy),symptoms,oxygen_level,discharge_date respectively and seperate using commas, seperate symptoms using colon\n",
            "Enter the information: Nimish,09/09/2021,fever;sore throat;headache,89,NIL\n",
            "Enter the information: Ayaan, 05/09/21, cough; leg pain, 91, NIK\n",
            "Enter the information: Twinkle,09/09/2021,fever;headache,85,NIL\n",
            "Number of patients in hospital: 3\n",
            "Number of patients in general ward: 1\n",
            "Number of patients on oxygen support: 2\n",
            "\n",
            "General Ward Patients\n",
            "\n",
            "Patient 1: \n",
            "Name: Ayaan\n",
            "Date of admission:  05/09/21\n",
            "Symptoms:   cough, leg pain,\n",
            "Oxygen level: 91\n",
            "Date of Discharge:  NIK\n",
            "\n",
            "Oxygen Support Patients\n",
            "\n",
            "Patient 1: \n",
            "Name: Nimish\n",
            "Date of admission: 09/09/2021\n",
            "Symptoms:  fever,sore throat,headache,\n",
            "Oxygen level: 89\n",
            "Date of Discharge: NIL\n",
            "\n",
            "Patient 2: \n",
            "Name: Twinkle\n",
            "Date of admission: 09/09/2021\n",
            "Symptoms:  fever,headache,\n",
            "Oxygen level: 85\n",
            "Date of Discharge: NIL\n"
          ]
        }
      ]
    },
    {
      "cell_type": "markdown",
      "metadata": {
        "id": "IMO_L0aM7Qb_"
      },
      "source": [
        "**Problem 6**"
      ]
    },
    {
      "cell_type": "code",
      "metadata": {
        "colab": {
          "base_uri": "https://localhost:8080/"
        },
        "id": "I-bfqwCu7Wlb",
        "outputId": "f38ba094-8c21-4f84-a680-996bdd4bf03f"
      },
      "source": [
        "class time:\n",
        "  def __init__(self,hour,minute,second):\n",
        "    self.hour = hour\n",
        "    self.minute = minute\n",
        "    self.second = second\n",
        "  def disp_time(self):\n",
        "    print('Time is %2.0d:%2.0d:%2.0d' % (self.hour,self.minute,self.second))\n",
        "t=time(0,0,0)\n",
        "t.disp_time();\n",
        "t=time(13,12,13)\n",
        "t.disp_time()"
      ],
      "execution_count": null,
      "outputs": [
        {
          "output_type": "stream",
          "name": "stdout",
          "text": [
            "Time is  0: 0: 0\n",
            "Time is 13:12:13\n"
          ]
        }
      ]
    },
    {
      "cell_type": "markdown",
      "metadata": {
        "id": "lLbwlbWnlI8h"
      },
      "source": [
        "**Problem 7**"
      ]
    },
    {
      "cell_type": "code",
      "metadata": {
        "colab": {
          "base_uri": "https://localhost:8080/"
        },
        "id": "ZoThClOIlMQu",
        "outputId": "1bb34628-23d2-4ef3-83ad-87f60c0992bd"
      },
      "source": [
        "class student:\n",
        "  def __init__(self, name, age, rollno):\n",
        "    self.name = name\n",
        "    self.age = age\n",
        "    self.rollno = rollno\n",
        "def compare_age(s1,s2):\n",
        "  if s1.age !=s2.age:\n",
        "    print(f'{s1.name} and {s2.name} are not of same age.')\n",
        "  else:\n",
        "    print(f'{s1.name} and {s2.name} are of same age.')\n",
        "s1 = student('Rahul', 23, 33)\n",
        "s2 = student('Rohit', 22, 74)\n",
        "compare_age(s1,s2)"
      ],
      "execution_count": null,
      "outputs": [
        {
          "output_type": "stream",
          "name": "stdout",
          "text": [
            "Rahul and Rohit are not of same age.\n"
          ]
        }
      ]
    },
    {
      "cell_type": "markdown",
      "metadata": {
        "id": "ZombTtYoq8Iy"
      },
      "source": [
        "**Problem 8**"
      ]
    },
    {
      "cell_type": "code",
      "metadata": {
        "colab": {
          "base_uri": "https://localhost:8080/"
        },
        "id": "WFixv5yCqP6Z",
        "outputId": "0aee867f-69e4-4d2d-e06c-39883e96a5d5"
      },
      "source": [
        "class student:\n",
        "  semester = 3\n",
        "  institute_name = 'IIIT DWD'\n",
        "\n",
        "  def __init__(self, name, usn):\n",
        "    self.name = name\n",
        "    self.usn = usn\n",
        "\n",
        "  def stud_details(self):\n",
        "    print('Name: {}\\nUSN: {}'.format(self.name.title(), self.usn))\n",
        "\n",
        "  @classmethod\n",
        "  def institute_details(cls):\n",
        "    print('Institute Name: {}\\nSemester: {}'.format(cls.institute_name, cls.semester))\n",
        "\n",
        "  @staticmethod\n",
        "  def class_details():\n",
        "    print('''This class has two class variables and two instance variables.\n",
        "It also contains three methods: instance, class and static methods.''')\n",
        "    \n",
        "s = student('Nimish', '20BCS094')\n",
        "print('Student_details is an instance method:\\n')\n",
        "s.stud_details()\n",
        "print('\\nInstitute_details is a class method:\\n')\n",
        "s.institute_details()\n",
        "print('\\nClass_details is a static method:\\n')\n",
        "student.class_details()"
      ],
      "execution_count": null,
      "outputs": [
        {
          "output_type": "stream",
          "name": "stdout",
          "text": [
            "Student_details is an instance method:\n",
            "\n",
            "Name: Nimish\n",
            "USN: 20BCS094\n",
            "\n",
            "Institute_details is a class method:\n",
            "\n",
            "Institute Name: IIIT DWD\n",
            "Semester: 3\n",
            "\n",
            "Class_details is a static method:\n",
            "\n",
            "This class has two class variables and two instance variables.\n",
            "It also contains three methods: instance, class and static methods.\n",
            "3\n"
          ]
        }
      ]
    },
    {
      "cell_type": "markdown",
      "metadata": {
        "id": "PhVN8Eot2n81"
      },
      "source": [
        "**Problem 9**"
      ]
    },
    {
      "cell_type": "code",
      "metadata": {
        "colab": {
          "base_uri": "https://localhost:8080/",
          "height": 385
        },
        "id": "q_EFlZnq27Vm",
        "outputId": "dd4ed946-de6f-4ffb-e464-95fc7c11a9cf"
      },
      "source": [
        "class student:\n",
        "  def __init__(self, Name, Roll_no, Sem, laptop_details):\n",
        "    self.Name = Name\n",
        "    self.Roll_no = Roll_no\n",
        "    self.Sem = Sem\n",
        "    self.laptop_details = laptop_details\n",
        "  class laptop:\n",
        "    def __init__(self, name, ram, display_details):\n",
        "      self.name = name\n",
        "      self.ram = ram\n",
        "      self.display_details = display_details\n",
        "  def put_details(self):\n",
        "    s1=laptop(self.laptop_details[0],self.laptop_details[1],self.laptop_details[2] )\n",
        "  def disp_details(self):\n",
        "    print('Name: {}\\nRoll No: {}\\nSemester: {}\\nLaptop details: '.format(self.Name.title(), self.Roll_no, self.Sem))\n",
        "    print()\n",
        "    print('Laptop ')\n",
        "    print(\"Name: {}\\nRAM: {}\\nDisplay details: {}\".format(self.name.title(), self.ram, self.display_details))\n",
        "    print()\n",
        "\n",
        "def take_info():\n",
        "  print('Enter name,rollno,semester and laptop details')\n",
        "  info = input('Enter the details: ')\n",
        "  info_list = info.split(',')\n",
        "  laptop_details = info_list[3].split(';')\n",
        "  return student(info_list[0], info_list[1], info_list[2],laptop_details)\n",
        "\n",
        "std = take_info()\n",
        "std.put_details()\n",
        "std.disp_details()"
      ],
      "execution_count": 8,
      "outputs": [
        {
          "name": "stdout",
          "output_type": "stream",
          "text": [
            "Enter name,rollno,semester and laptop details\n",
            "Enter the details: Nimish, 20bcs094, Mac;8;13\n"
          ]
        },
        {
          "output_type": "error",
          "ename": "IndexError",
          "evalue": "ignored",
          "traceback": [
            "\u001b[0;31m---------------------------------------------------------------------------\u001b[0m",
            "\u001b[0;31mIndexError\u001b[0m                                Traceback (most recent call last)",
            "\u001b[0;32m<ipython-input-8-3336c616e41a>\u001b[0m in \u001b[0;36m<module>\u001b[0;34m()\u001b[0m\n\u001b[1;32m     26\u001b[0m   \u001b[0;32mreturn\u001b[0m \u001b[0mstudent\u001b[0m\u001b[0;34m(\u001b[0m\u001b[0minfo_list\u001b[0m\u001b[0;34m[\u001b[0m\u001b[0;36m0\u001b[0m\u001b[0;34m]\u001b[0m\u001b[0;34m,\u001b[0m \u001b[0minfo_list\u001b[0m\u001b[0;34m[\u001b[0m\u001b[0;36m1\u001b[0m\u001b[0;34m]\u001b[0m\u001b[0;34m,\u001b[0m \u001b[0minfo_list\u001b[0m\u001b[0;34m[\u001b[0m\u001b[0;36m2\u001b[0m\u001b[0;34m]\u001b[0m\u001b[0;34m,\u001b[0m\u001b[0mlaptop_details\u001b[0m\u001b[0;34m)\u001b[0m\u001b[0;34m\u001b[0m\u001b[0;34m\u001b[0m\u001b[0m\n\u001b[1;32m     27\u001b[0m \u001b[0;34m\u001b[0m\u001b[0m\n\u001b[0;32m---> 28\u001b[0;31m \u001b[0mstd\u001b[0m \u001b[0;34m=\u001b[0m \u001b[0mtake_info\u001b[0m\u001b[0;34m(\u001b[0m\u001b[0;34m)\u001b[0m\u001b[0;34m\u001b[0m\u001b[0;34m\u001b[0m\u001b[0m\n\u001b[0m\u001b[1;32m     29\u001b[0m \u001b[0mstd\u001b[0m\u001b[0;34m.\u001b[0m\u001b[0mput_details\u001b[0m\u001b[0;34m(\u001b[0m\u001b[0;34m)\u001b[0m\u001b[0;34m\u001b[0m\u001b[0;34m\u001b[0m\u001b[0m\n\u001b[1;32m     30\u001b[0m \u001b[0mstd\u001b[0m\u001b[0;34m.\u001b[0m\u001b[0mdisp_details\u001b[0m\u001b[0;34m(\u001b[0m\u001b[0;34m)\u001b[0m\u001b[0;34m\u001b[0m\u001b[0;34m\u001b[0m\u001b[0m\n",
            "\u001b[0;32m<ipython-input-8-3336c616e41a>\u001b[0m in \u001b[0;36mtake_info\u001b[0;34m()\u001b[0m\n\u001b[1;32m     23\u001b[0m   \u001b[0minfo\u001b[0m \u001b[0;34m=\u001b[0m \u001b[0minput\u001b[0m\u001b[0;34m(\u001b[0m\u001b[0;34m'Enter the details: '\u001b[0m\u001b[0;34m)\u001b[0m\u001b[0;34m\u001b[0m\u001b[0;34m\u001b[0m\u001b[0m\n\u001b[1;32m     24\u001b[0m   \u001b[0minfo_list\u001b[0m \u001b[0;34m=\u001b[0m \u001b[0minfo\u001b[0m\u001b[0;34m.\u001b[0m\u001b[0msplit\u001b[0m\u001b[0;34m(\u001b[0m\u001b[0;34m','\u001b[0m\u001b[0;34m)\u001b[0m\u001b[0;34m\u001b[0m\u001b[0;34m\u001b[0m\u001b[0m\n\u001b[0;32m---> 25\u001b[0;31m   \u001b[0mlaptop_details\u001b[0m \u001b[0;34m=\u001b[0m \u001b[0minfo_list\u001b[0m\u001b[0;34m[\u001b[0m\u001b[0;36m3\u001b[0m\u001b[0;34m]\u001b[0m\u001b[0;34m.\u001b[0m\u001b[0msplit\u001b[0m\u001b[0;34m(\u001b[0m\u001b[0;34m';'\u001b[0m\u001b[0;34m)\u001b[0m\u001b[0;34m\u001b[0m\u001b[0;34m\u001b[0m\u001b[0m\n\u001b[0m\u001b[1;32m     26\u001b[0m   \u001b[0;32mreturn\u001b[0m \u001b[0mstudent\u001b[0m\u001b[0;34m(\u001b[0m\u001b[0minfo_list\u001b[0m\u001b[0;34m[\u001b[0m\u001b[0;36m0\u001b[0m\u001b[0;34m]\u001b[0m\u001b[0;34m,\u001b[0m \u001b[0minfo_list\u001b[0m\u001b[0;34m[\u001b[0m\u001b[0;36m1\u001b[0m\u001b[0;34m]\u001b[0m\u001b[0;34m,\u001b[0m \u001b[0minfo_list\u001b[0m\u001b[0;34m[\u001b[0m\u001b[0;36m2\u001b[0m\u001b[0;34m]\u001b[0m\u001b[0;34m,\u001b[0m\u001b[0mlaptop_details\u001b[0m\u001b[0;34m)\u001b[0m\u001b[0;34m\u001b[0m\u001b[0;34m\u001b[0m\u001b[0m\n\u001b[1;32m     27\u001b[0m \u001b[0;34m\u001b[0m\u001b[0m\n",
            "\u001b[0;31mIndexError\u001b[0m: list index out of range"
          ]
        }
      ]
    },
    {
      "cell_type": "code",
      "metadata": {
        "id": "jxWRR6Ii84zO"
      },
      "source": [
        ""
      ],
      "execution_count": null,
      "outputs": []
    }
  ]
}
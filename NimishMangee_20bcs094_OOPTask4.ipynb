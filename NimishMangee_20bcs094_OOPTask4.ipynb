{
  "nbformat": 4,
  "nbformat_minor": 0,
  "metadata": {
    "colab": {
      "name": "NimishMangee_20bcs094_OOPTask4.ipynb",
      "provenance": [],
      "authorship_tag": "ABX9TyPyIp87uQhDenJ9auppMvZz",
      "include_colab_link": true
    },
    "kernelspec": {
      "name": "python3",
      "display_name": "Python 3"
    },
    "language_info": {
      "name": "python"
    }
  },
  "cells": [
    {
      "cell_type": "markdown",
      "metadata": {
        "id": "view-in-github",
        "colab_type": "text"
      },
      "source": [
        "<a href=\"https://colab.research.google.com/github/Nimishmangee/OOP-LAB-ASSIGNMENTS/blob/main/NimishMangee_20bcs094_OOPTask4.ipynb\" target=\"_parent\"><img src=\"https://colab.research.google.com/assets/colab-badge.svg\" alt=\"Open In Colab\"/></a>"
      ]
    },
    {
      "cell_type": "code",
      "metadata": {
        "colab": {
          "base_uri": "https://localhost:8080/"
        },
        "id": "uuGPhvYvXEsX",
        "outputId": "3895f694-c119-4fa0-e71c-ffba6612e0c1"
      },
      "source": [
        "# Problem-1\n",
        "class Node:\n",
        "  def __init__(self, data):\n",
        "    self.data = data\n",
        "    self.next = None\n",
        "  def __del__(self):\n",
        "    print(self.data, 'deleted successfully.')\n",
        "\n",
        "class Stack:\n",
        "  def __init__(self, data):\n",
        "    self.top = Node(data)\n",
        "    print(self.top.data,'added to the stack.')\n",
        "  \n",
        "  def add(self, data):\n",
        "    new = Node(data)\n",
        "    new.next = self.top\n",
        "    self.top = new\n",
        "    print(self.top.data, 'added to the stack.')\n",
        "  \n",
        "  def remove(self):\n",
        "    try:\n",
        "      del_node = self.top\n",
        "      self.top = self.top.next\n",
        "      del del_node\n",
        "\n",
        "    except AttributeError:\n",
        "      print('Cannot remove any more elements from the stack as it is empty.')\n",
        "\n",
        "  def view(self):\n",
        "    print('\\nThe elements of the stack are : ',sep=' ')\n",
        "    curr_node = self.top\n",
        "    while curr_node.next is not None:\n",
        "      print(curr_node.data, sep=' ')\n",
        "      curr_node = curr_node.next\n",
        "    print(curr_node.data)\n",
        "    print()\n",
        "\n",
        "  def is_empty(self):\n",
        "    try:\n",
        "      print('Stack is not empty and it begins with', self.top.data)\n",
        "    except AttributeError:\n",
        "      print('Stack is empty')\n",
        "\n",
        "  def __del__(self):\n",
        "    curr_node = self.top\n",
        "    while curr_node.next is not None:\n",
        "      del_node = curr_node\n",
        "      curr_node = curr_node.next\n",
        "      del del_node\n",
        "    del curr_node\n",
        "    print('Stack deleted.')\n",
        "\n",
        "\n",
        "stack = Stack(7)\n",
        "stack.add('n')\n",
        "stack.add(3)\n",
        "stack.add(0.93)\n",
        "stack.add(4)\n",
        "stack.view()\n",
        "stack.is_empty()\n",
        "stack.remove()\n",
        "stack.add('S')\n",
        "stack.view()\n",
        "stack.is_empty()\n",
        "del stack\n"
      ],
      "execution_count": 3,
      "outputs": [
        {
          "output_type": "stream",
          "name": "stdout",
          "text": [
            "7 added to the stack.\n",
            "n added to the stack.\n",
            "3 added to the stack.\n",
            "0.93 added to the stack.\n",
            "4 added to the stack.\n",
            "\n",
            "The elements of the stack are : \n",
            "4\n",
            "0.93\n",
            "3\n",
            "n\n",
            "7\n",
            "\n",
            "Stack is not empty and it begins with 4\n",
            "4 deleted successfully.\n",
            "S added to the stack.\n",
            "\n",
            "The elements of the stack are : \n",
            "S\n",
            "0.93\n",
            "3\n",
            "n\n",
            "7\n",
            "\n",
            "Stack is not empty and it begins with S\n",
            "Stack deleted.\n",
            "S deleted successfully.\n",
            "0.93 deleted successfully.\n",
            "3 deleted successfully.\n",
            "n deleted successfully.\n",
            "7 deleted successfully.\n"
          ]
        }
      ]
    },
    {
      "cell_type": "code",
      "metadata": {
        "colab": {
          "base_uri": "https://localhost:8080/"
        },
        "id": "loEADjLTZ-NR",
        "outputId": "3f4083ec-1c69-467e-cd4b-c518d0dec091"
      },
      "source": [
        "# Problem-2\n",
        "class Rectangle:\n",
        "  def __init__(self, length = 4, breadth = 3):\n",
        "    self.l = length\n",
        "    self.b = breadth\n",
        "    self.area = self.l*self.b\n",
        "  def area(self):\n",
        "    return self.area\n",
        "\n",
        "rect_1 = Rectangle()\n",
        "print(rect_1.area)\n",
        "rect_2 = Rectangle(7,8)\n",
        "print(rect_2.area)"
      ],
      "execution_count": 5,
      "outputs": [
        {
          "output_type": "stream",
          "name": "stdout",
          "text": [
            "12\n",
            "56\n"
          ]
        }
      ]
    },
    {
      "cell_type": "code",
      "metadata": {
        "colab": {
          "base_uri": "https://localhost:8080/"
        },
        "id": "GL2lQVehaKkW",
        "outputId": "ebd9d63e-cb12-4f95-d6a1-2d91e9e51f6a"
      },
      "source": [
        "#Problem-3\n",
        "class Node:\n",
        "  def __init__(self, data):\n",
        "    self.data = data\n",
        "    self.next = None\n",
        "  def __del__(self):\n",
        "    print(self.data, 'deleted successfully.')\n",
        "\n",
        "class Queue:\n",
        "  def __init__(self, data):\n",
        "    self.front = self.end = Node(data)\n",
        "    print(self.front.data,'added to the queue.')\n",
        "  \n",
        "  def add(self, data):\n",
        "    new_node = Node(data)\n",
        "    self.end.next = new_node\n",
        "    self.end = new_node\n",
        "    print(self.end.data, 'added to the queue.')\n",
        "  \n",
        "  def remove(self):\n",
        "    try:\n",
        "      del_node = self.front\n",
        "      self.front = self.front.next\n",
        "      del del_node\n",
        "    except AttributeError:\n",
        "      print('Cannot remove any more elements(Empty!)')\n",
        "\n",
        "  def view(self):\n",
        "    print('\\nElements of the Queue are:')\n",
        "    curr_node = self.front\n",
        "    while curr_node != self.end:\n",
        "      print(curr_node.data)\n",
        "      curr_node = curr_node.next\n",
        "    print(curr_node.data)\n",
        "    print()\n",
        "  \n",
        "  def is_empty(self):\n",
        "    try:\n",
        "      print('The Queue is not empty')\n",
        "    except AttributeError:\n",
        "      print('Queue is empty!')\n",
        "\n",
        "  def __del__(self):\n",
        "    curr_node = self.front\n",
        "    while curr_node != self.end:\n",
        "      del_node = curr_node\n",
        "      curr_node = curr_node.next\n",
        "      del del_node\n",
        "    del curr_node\n",
        "    print('Queue deleted.')\n",
        "\n",
        "\n",
        "q = Queue(1)\n",
        "q.add(4)\n",
        "q.add('iPad')\n",
        "q.add('MacBook')\n",
        "q.view()\n",
        "q.is_empty()\n",
        "q.remove()\n",
        "q.remove()\n",
        "q.add('b')\n",
        "q.view()\n",
        "del q"
      ],
      "execution_count": 12,
      "outputs": [
        {
          "output_type": "stream",
          "name": "stdout",
          "text": [
            "1 added to the queue.\n",
            "4 added to the queue.\n",
            "iPad added to the queue.\n",
            "MacBook added to the queue.\n",
            "\n",
            "Elements of the Queue are:\n",
            "1\n",
            "4\n",
            "iPad\n",
            "MacBook\n",
            "\n",
            "The Queue is not empty\n",
            "1 deleted successfully.\n",
            "4 deleted successfully.\n",
            "b added to the queue.\n",
            "\n",
            "Elements of the Queue are:\n",
            "iPad\n",
            "MacBook\n",
            "b\n",
            "\n",
            "Queue deleted.\n",
            "iPad deleted successfully.\n",
            "MacBook deleted successfully.\n",
            "b deleted successfully.\n"
          ]
        }
      ]
    }
  ]
}
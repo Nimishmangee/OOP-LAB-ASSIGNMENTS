{
  "nbformat": 4,
  "nbformat_minor": 0,
  "metadata": {
    "colab": {
      "name": "Nimish Mangee_20BCS094_OOPTask3.ipynb",
      "provenance": [],
      "authorship_tag": "ABX9TyP5KS7Qd5CJW3D/+tgPr6M2",
      "include_colab_link": true
    },
    "kernelspec": {
      "display_name": "Python 3",
      "name": "python3"
    },
    "language_info": {
      "name": "python"
    }
  },
  "cells": [
    {
      "cell_type": "markdown",
      "metadata": {
        "id": "view-in-github",
        "colab_type": "text"
      },
      "source": [
        "<a href=\"https://colab.research.google.com/github/Nimishmangee/OOP-LAB-ASSIGNMENTS/blob/main/Nimish_Mangee_20BCS094_OOPTask3.ipynb\" target=\"_parent\"><img src=\"https://colab.research.google.com/assets/colab-badge.svg\" alt=\"Open In Colab\"/></a>"
      ]
    },
    {
      "cell_type": "markdown",
      "metadata": {
        "id": "mm2cNiOm0Yad"
      },
      "source": [
        "**Problem 1**"
      ]
    },
    {
      "cell_type": "code",
      "metadata": {
        "colab": {
          "base_uri": "https://localhost:8080/"
        },
        "id": "ZhxBWj9U0aTn",
        "outputId": "d9becc46-19b3-49d8-fce6-8a25bcdb3bbf"
      },
      "source": [
        "class Student:\n",
        "  def __init__(self, name, regno, age, gender, branch, sem):\n",
        "    self.name = name\n",
        "    self.regno = regno\n",
        "    self.age = age\n",
        "    self.gender = gender\n",
        "    self.branch = branch\n",
        "    self.sem = sem\n",
        "\n",
        "  def disp_details_Student(self):\n",
        "    print(f'Name: {self.name.title()}\\nReg No: {self.regno.upper()}\\nBranch: {self.branch.upper()}\\nSemester: {self.sem}')\n",
        "    print(f'Age: {self.age}\\nGender: {self.gender.title()}')\n",
        "\n",
        "  \n",
        "class StudentResultInfo(Student):\n",
        "  def __init__(self, name, regno, age, gender, branch, sem, marks, percentage, grade):\n",
        "    Student.__init__(self, name, regno, age, gender, branch, sem)\n",
        "    self.marks = []\n",
        "    self.percentage = percentage\n",
        "    self.grade = grade\n",
        "    for mark in marks:\n",
        "      self.marks.append(mark)\n",
        "\n",
        "  def disp_details_academic_Student(self):\n",
        "    print('\\nStudent Details:')\n",
        "    Student.disp_details_Student(self)\n",
        "    print(\"\\nAcademic Details:\\nMarks: \")\n",
        "    for i in range(len(self.marks)):\n",
        "      print(f'Subject {i+1}: {self.marks[i]}')\n",
        "    print(f'\\nPercentage: {self.percentage}%\\nGrade: {self.grade}')\n",
        "\n",
        "\n",
        "def read_info():\n",
        "  print('Enter name, regno, age, gender, branch, sem, marks, percentage, grade and seperate marks with ;')\n",
        "  info = input()\n",
        "  info_list = info.split(',')\n",
        "  marks = info_list[6].split(';')\n",
        "\n",
        "  return StudentResultInfo(info_list[0], info_list[1], info_list[2], info_list[3], info_list[4], info_list[5], marks, info_list[7], info_list[8])\n",
        "\n",
        "\n",
        "s = read_info()\n",
        "s.disp_details_academic_Student()\n"
      ],
      "execution_count": 11,
      "outputs": [
        {
          "output_type": "stream",
          "name": "stdout",
          "text": [
            "Enter name, regno, age, gender, branch, sem, marks, percentage, grade and seperate marks with ;\n",
            "Nimish, 20bcs094, 19, M, CSE, 3, 9;9;10, 87, A\n",
            "\n",
            "Student Details:\n",
            "Name: Nimish\n",
            "Reg No:  20BCS094\n",
            "Branch:  CSE\n",
            "Semester:  3\n",
            "Age:  19\n",
            "Gender:  M\n",
            "\n",
            "Academic Details:\n",
            "Marks: \n",
            "Subject 1:  9\n",
            "Subject 2: 9\n",
            "Subject 3: 10\n",
            "\n",
            "Percentage:  87%\n",
            "Grade:  A\n"
          ]
        }
      ]
    },
    {
      "cell_type": "markdown",
      "metadata": {
        "id": "toVCDUPZ0sXK"
      },
      "source": [
        "**Problem 2**"
      ]
    },
    {
      "cell_type": "code",
      "metadata": {
        "colab": {
          "base_uri": "https://localhost:8080/"
        },
        "id": "i2Oc3cmn0vDy",
        "outputId": "9bfe655e-bf4c-4657-a843-efca65e1f7bf"
      },
      "source": [
        "class pdf:\n",
        "  def __init__(self, creator, description, file_size):\n",
        "    self.creator = creator\n",
        "    self.description = description\n",
        "    self.file_size = file_size\n",
        "\n",
        "  def disp_details_pdf(self):\n",
        "    print(f'Creator: {self.creator.title()}\\nDescription: {self.description}\\nFile Size: {self.file_size} MB')\n",
        "\n",
        "  def check_size_pdf(self):\n",
        "    if float(self.file_size) <= 2:\n",
        "      return True\n",
        "    else:\n",
        "      return False\n",
        "\n",
        "\n",
        "class picture:\n",
        "  def __init__(self, creatori, descriptioni, image_size, image_dimension):\n",
        "    self.creatori = creatori\n",
        "    self.descriptioni = descriptioni\n",
        "    self.image_size = image_size\n",
        "    self.image_dimension = image_dimension\n",
        "\n",
        "  def disp_details_picture(self):\n",
        "    print(f'Creator: {self.creatori.title()}\\nDescription: {self.descriptioni}\\nFile Size: {self.image_size} MB\\nDimensions: {self.image_dimension} pixels')\n",
        "\n",
        "  def check_size_img(self):\n",
        "    if float(self.image_size) <= 0.5:\n",
        "      return True\n",
        "    else:\n",
        "      return False\n",
        "\n",
        "  def check_img_size(self):\n",
        "    dimensions = self.image_dimension.split('x')\n",
        "    if int(dimensions[0]) <= 640 and int(dimensions[1]) <= 480:\n",
        "      return True\n",
        "    else:\n",
        "      return False\n",
        "\n",
        "\n",
        "class ContentManagementSystem(pdf,picture):\n",
        "  def __init__(self, creator, description, file_size, creatori, descriptioni, image_size, image_dimension):\n",
        "    pdf.__init__(self, creator, description, file_size)\n",
        "    picture.__init__(self, creatori, descriptioni, image_size, image_dimension)\n",
        "\n",
        "  def check_sizes(self):\n",
        "    if not pdf.check_size_pdf(self):\n",
        "      print(\"PDF size too large....\")\n",
        "    if not picture.check_size_img(self):\n",
        "      print(\"Image size too large....\")\n",
        "    if not picture.check_img_size(self):\n",
        "      print(\"Image dimensions too large.....\")\n",
        "    \n",
        "    if pdf.check_size_pdf(self) and picture.check_size_img(self) and picture.check_img_size(self):\n",
        "      print(\"All the documents are within acceptable parameters.\")\n",
        "  \n",
        "  def disp_details(self):\n",
        "    print('\\nDocument Details:')\n",
        "    print('\\nPDF Details:\\n')\n",
        "    pdf.disp_details_pdf(self)\n",
        "    print('\\n\\nPicture Details:\\n')\n",
        "    picture.disp_details_picture(self)\n",
        "\n",
        "\n",
        "def take_info():\n",
        "  print('Enter the creator name, description of pdf, size seperated by ;')\n",
        "  pdf_info = input()\n",
        "  print('Enter the creator name, description of image, size, dimension seperated by ;')\n",
        "  pic_info = input()\n",
        "\n",
        "  pdf_info_l = pdf_info.split(',')\n",
        "  pic_info_l = pic_info.split(',')\n",
        "\n",
        "  return ContentManagementSystem(pdf_info_l[0], pdf_info_l[1], pdf_info_l[2], pic_info_l[0], pic_info_l[1], pic_info_l[2], pic_info_l[3])\n",
        "\n",
        "cms = take_info()\n",
        "cms.check_sizes()\n",
        "cms.disp_details()"
      ],
      "execution_count": 8,
      "outputs": [
        {
          "output_type": "stream",
          "name": "stdout",
          "text": [
            "Enter the creator name, description of pdf, size seperated by ;\n",
            "Nimish Mangee, OOPAss, 1.5\n",
            "Enter the creator name, description of image, size, dimension seperated by ;\n",
            "Nimish, Aadhaar Card, 0.4,19x10x10\n",
            "All the documents are within acceptable parameters.\n",
            "\n",
            "Document Details:\n",
            "\n",
            "PDF Details:\n",
            "\n",
            "Creator: Nimish Mangee\n",
            "Description:  OOPAss\n",
            "File Size:  1.5 MB\n",
            "\n",
            "\n",
            "Picture Details:\n",
            "\n",
            "Creator: Nimish\n",
            "Description:  Aadhaar Card\n",
            "File Size:  0.4 MB\n",
            "Dimensions: 19x10x10 pixels\n"
          ]
        }
      ]
    },
    {
      "cell_type": "markdown",
      "metadata": {
        "id": "J7uWW4jV1ZCj"
      },
      "source": [
        "**Problem 3**"
      ]
    },
    {
      "cell_type": "code",
      "metadata": {
        "colab": {
          "base_uri": "https://localhost:8080/"
        },
        "id": "XQ7GlNwU1cjB",
        "outputId": "b404abed-8b52-4360-8191-f98a60a7ee7c"
      },
      "source": [
        "class Vehicle:\n",
        "  def __init__(self, name, mileage, capacity):\n",
        "    self.name = name\n",
        "    self.mileage = mileage\n",
        "    self.capacity = capacity\n",
        "    self.total_fare = self.fare()\n",
        "    \n",
        "  def fare(self):\n",
        "    return 100*int(self.capacity)\n",
        "\n",
        "class Bus(Vehicle):\n",
        "  def __init__(self, name, mileage, capacity):\n",
        "    Vehicle.__init__(self, name, mileage, capacity)\n",
        "    self.total_fare = 1.1*Bus.fare(self) \n",
        "\n",
        "\n",
        "def get_info():\n",
        "  print('Input vehicle,mileage,capacity')\n",
        "  info = input()\n",
        "  info_list = info.split(',')\n",
        "  if info_list[0].lower() == 'bus':\n",
        "    return Bus(info_list[0], info_list[1], info_list[2])\n",
        "  else:\n",
        "    return Vehicle(info_list[0], info_list[1], info_list[2])\n",
        "\n",
        "ob1 = get_info() \n",
        "ob2 = get_info()  \n",
        "\n",
        "print(\"Vehicle Fare:\" + str(ob1.total_fare))    \n",
        "print('Bus Fare:' + str(ob2.total_fare))"
      ],
      "execution_count": 5,
      "outputs": [
        {
          "output_type": "stream",
          "name": "stdout",
          "text": [
            "Input vehicle,mileage,capacity\n",
            "Taxi, 15kmpl ,5\n",
            "Input vehicle,mileage,capacity\n",
            "Bus, 5kmpl, 25\n",
            "Vehicle Fare:500\n",
            "Bus Fare:2750.0\n"
          ]
        }
      ]
    }
  ]
}